{
 "cells": [
  {
   "cell_type": "code",
   "execution_count": 26,
   "id": "b7320ebe",
   "metadata": {},
   "outputs": [],
   "source": [
    "import requests\n",
    "\n",
    "    \n",
    "myToken = '2052161a02054a46ef00bde649f8b727fd58b14d'\n",
    "base_url = \"https://api.waqi.info\"\n",
    "\n",
    "lat, long = 67,99\n",
    "r = requests.get(base_url + f\"/feed/geo:{lat};{long}/?token={myToken}\")"
   ]
  },
  {
   "cell_type": "code",
   "execution_count": 27,
   "id": "2c627ffe",
   "metadata": {},
   "outputs": [],
   "source": [
    "def balikinindex(r, par):\n",
    "    try:\n",
    "        result = r.json()['data']['iaqi'][par]['v']\n",
    "    except:\n",
    "        result = 0\n",
    "    return result"
   ]
  },
  {
   "cell_type": "code",
   "execution_count": 28,
   "id": "9977fa1c",
   "metadata": {},
   "outputs": [],
   "source": [
    "pm10 = balikinindex(r, 'pm10')\n",
    "so2 = balikinindex(r, 'so2')\n",
    "co = balikinindex(r, 'co')\n",
    "o3 = balikinindex(r, 'o3')\n",
    "no2 = balikinindex(r, 'no2')"
   ]
  },
  {
   "cell_type": "code",
   "execution_count": 29,
   "id": "807dc46a",
   "metadata": {},
   "outputs": [
    {
     "name": "stdout",
     "output_type": "stream",
     "text": [
      "16 0 0 0 0\n"
     ]
    }
   ],
   "source": [
    "print(pm10, so2, co, o3, no2)"
   ]
  },
  {
   "cell_type": "code",
   "execution_count": 30,
   "id": "29502396",
   "metadata": {},
   "outputs": [
    {
     "data": {
      "text/plain": [
       "{'status': 'ok',\n",
       " 'data': {'aqi': 54,\n",
       "  'idx': 12731,\n",
       "  'attributions': [{'url': 'https://airvoice.io/',\n",
       "    'name': 'City-Air LLC with grant support from the Skolkovo Foundation',\n",
       "    'logo': 'Russia-cityair.png'},\n",
       "   {'url': 'https://waqi.info/', 'name': 'World Air Quality Index Project'}],\n",
       "  'city': {'geo': [54.83815, 83.17207],\n",
       "   'name': 'Gorki Akademparka, Novosibirsk, Russia (Поселок \"Горки Академпарка\")',\n",
       "   'url': 'https://aqicn.org/city/russia/novosibirsk/gorki-akademparka'},\n",
       "  'dominentpol': 'pm25',\n",
       "  'iaqi': {'h': {'v': 78},\n",
       "   'p': {'v': 1001.9},\n",
       "   'pm10': {'v': 16},\n",
       "   'pm25': {'v': 54},\n",
       "   't': {'v': 10.5},\n",
       "   'w': {'v': 0.7},\n",
       "   'wg': {'v': 1}},\n",
       "  'time': {'s': '2021-05-30 08:00:00',\n",
       "   'tz': '+07:00',\n",
       "   'v': 1622361600,\n",
       "   'iso': '2021-05-30T08:00:00+07:00'},\n",
       "  'forecast': {},\n",
       "  'debug': {'sync': '2021-05-30T10:09:36+09:00'}}}"
      ]
     },
     "execution_count": 30,
     "metadata": {},
     "output_type": "execute_result"
    }
   ],
   "source": [
    "r.json()"
   ]
  },
  {
   "cell_type": "code",
   "execution_count": null,
   "id": "efc59cdf",
   "metadata": {},
   "outputs": [],
   "source": []
  }
 ],
 "metadata": {
  "kernelspec": {
   "display_name": "Python 3",
   "language": "python",
   "name": "python3"
  },
  "language_info": {
   "codemirror_mode": {
    "name": "ipython",
    "version": 3
   },
   "file_extension": ".py",
   "mimetype": "text/x-python",
   "name": "python",
   "nbconvert_exporter": "python",
   "pygments_lexer": "ipython3",
   "version": "3.6.13"
  }
 },
 "nbformat": 4,
 "nbformat_minor": 5
}
